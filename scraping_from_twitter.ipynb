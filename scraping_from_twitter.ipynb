{
 "cells": [
  {
   "cell_type": "code",
   "execution_count": 1,
   "id": "763118bb",
   "metadata": {},
   "outputs": [],
   "source": [
    "import matplotlib.pyplot as plt\n",
    "import numpy as np\n",
    "import pandas as pd\n",
    "import seaborn as sns\n",
    "import os\n",
    "import glob\n",
    "import tweepy as tw\n",
    "from sklearn.utils import shuffle\n",
    "from sklearn.preprocessing import LabelEncoder\n",
    "from sklearn.model_selection import train_test_split\n",
    "from sklearn.metrics import classification_report,confusion_matrix\n",
    "from warnings import filterwarnings\n",
    "filterwarnings('ignore')\n",
    "from importlib import reload\n",
    "plt=reload(plt)\n",
    "%matplotlib inline\n",
    "\n"
   ]
  },
  {
   "cell_type": "code",
   "execution_count": 2,
   "id": "251db593",
   "metadata": {},
   "outputs": [],
   "source": [
    "api_key = ''    # used to identify and authenticate an application or user\n",
    "api_secret = ''  # used for authentication in the most critical parts of the system where access should be limited\n",
    "\n",
    "access_token = '' # used in token-based authentication to allow an application to access an API\n",
    "access_token_secret = '' # used to specify the Twitter account the request is made on behalf of\n"
   ]
  },
  {
   "cell_type": "code",
   "execution_count": 3,
   "id": "e5a824f0",
   "metadata": {},
   "outputs": [],
   "source": [
    "# Authenticating the APIs\n",
    "auth = tw.OAuthHandler(api_key, api_secret)\n",
    "auth.set_access_token(access_token, access_token_secret)\n",
    "api = tw.API(auth, wait_on_rate_limit=True )\n",
    "\n"
   ]
  },
  {
   "cell_type": "code",
   "execution_count": null,
   "id": "ab16a579",
   "metadata": {},
   "outputs": [],
   "source": [
    "def get_related_tweets(key_word):\n",
    "    tweet_id = []\n",
    "    tweet_time = []\n",
    "    tweet_string = []\n",
    "    retweet_count = [] \n",
    "    for tweet in tw.Cursor(api.search_tweets,q=key_word, count=50000).items():\n",
    "      if tweet.lang == \"en\":\n",
    "              tweet_id.append(tweet.id)\n",
    "              tweet_time.append(tweet.created_at)\n",
    "              tweet_string.append(tweet.text)\n",
    "              retweet_count.append(tweet.retweet_count)\n",
    "\n",
    "    # Creating a DataFrame and storing the retrieved tweets               \n",
    "    df = pd.DataFrame({'tweet_id': tweet_id, 'time': tweet_time, 'tweet': tweet_string, 'retweet_count':tweet.in_reply_to_status_id_str})\n",
    "    # Writing the retreieved tweets to CSV\n",
    "    df.to_csv(f\"{key_word}.csv\")\n",
    "    return df\n",
    "# Creating a list of the keywords we want to use\n",
    "list_of_search = ['Tinubu', 'APC', 'peter obi', 'Obidatti023', 'TinubuShettima2023', \n",
    "                  'NgLabour', 'Atiku', 'pdp', 'AtikuOkowa2023']\n",
    "# Looping through the list to retrieve tweets related to the respective keyword\n",
    "for i in list_of_search:\n",
    "  get_related_tweets(i)"
   ]
  },
  {
   "cell_type": "code",
   "execution_count": null,
   "id": "11c48106",
   "metadata": {},
   "outputs": [],
   "source": [
    "# current directory csv files\n",
    "csvs = [x for x in os.listdir('.') if x.endswith('.csv')]\n",
    "# stats.csv -> stats\n",
    "fns = [os.path.splitext(os.path.basename(x))[0] for x in csvs]\n",
    "# dictionary to store all the csv files\n",
    "elections = {}\n",
    "for i in range(len(fns)):\n",
    "    elections[fns[i]] = pd.read_csv(csvs[i], lineterminator='\\n')\n",
    "# concating all the dataframes into one large dataframe\n",
    "df = pd.concat((pd.read_csv(csvs[i], lineterminator='\\n') for i in range(len(fns)))).reset_index(drop = True) \n",
    "print(df)"
   ]
  },
  {
   "cell_type": "code",
   "execution_count": null,
   "id": "738b6cb1",
   "metadata": {},
   "outputs": [],
   "source": []
  }
 ],
 "metadata": {
  "kernelspec": {
   "display_name": "Python 3 (ipykernel)",
   "language": "python",
   "name": "python3"
  },
  "language_info": {
   "codemirror_mode": {
    "name": "ipython",
    "version": 3
   },
   "file_extension": ".py",
   "mimetype": "text/x-python",
   "name": "python",
   "nbconvert_exporter": "python",
   "pygments_lexer": "ipython3",
   "version": "3.8.10"
  }
 },
 "nbformat": 4,
 "nbformat_minor": 5
}
